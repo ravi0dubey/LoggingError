{
 "cells": [
  {
   "cell_type": "code",
   "execution_count": 74,
   "id": "467f9c96",
   "metadata": {},
   "outputs": [
    {
     "name": "stdout",
     "output_type": "stream",
     "text": [
      "Enter Numerator:5\n",
      "Enter Denominator:1\n",
      "\"Radha Babu\"0.65.0\n",
      "There is no division by zero\n"
     ]
    }
   ],
   "source": [
    "a= int(input(\"Enter Numerator:\"))\n",
    "b = int(input(\"Enter Denominator:\"))\n",
    "try:\n",
    "    c = a/b\n",
    "    f= open(\"a2.txt\",'a')\n",
    "    f.write(str(c))\n",
    "    f.close()\n",
    "    f1=open(\"a2.txt\",'r+')\n",
    "    print(f1.read())\n",
    "except ArithmeticError as e:\n",
    "    print(\"Error \",e)\n",
    "else:\n",
    "    print(\"There is no division by zero\")"
   ]
  },
  {
   "cell_type": "code",
   "execution_count": 69,
   "id": "43589e67",
   "metadata": {},
   "outputs": [
    {
     "name": "stdout",
     "output_type": "stream",
     "text": [
      "\"Radha Babu\"\n"
     ]
    }
   ],
   "source": [
    "\n",
    "try:\n",
    "    f2=open(\"a2.txt\",'r+')\n",
    "    a =f2.read()\n",
    "    print(a)\n",
    "except :\n",
    "    print(\"Error 1\")"
   ]
  },
  {
   "cell_type": "code",
   "execution_count": 50,
   "id": "7c69e3b2",
   "metadata": {},
   "outputs": [],
   "source": [
    "import os\n",
    "os.getcwd()\n",
    "os.chdir(\"D:\\\\study\\\\Data Science\\\\100 Days of Python\\\\\")\n"
   ]
  },
  {
   "cell_type": "code",
   "execution_count": 79,
   "id": "2a598a19",
   "metadata": {},
   "outputs": [
    {
     "data": {
      "text/plain": [
       "'D:\\\\study\\\\Data Science\\\\100 Days of Python'"
      ]
     },
     "execution_count": 79,
     "metadata": {},
     "output_type": "execute_result"
    }
   ],
   "source": [
    "os.getcwd()"
   ]
  },
  {
   "cell_type": "code",
   "execution_count": 71,
   "id": "ccaff65f",
   "metadata": {},
   "outputs": [
    {
     "data": {
      "text/plain": [
       "''"
      ]
     },
     "execution_count": 71,
     "metadata": {},
     "output_type": "execute_result"
    }
   ],
   "source": [
    "f1.read()"
   ]
  },
  {
   "cell_type": "code",
   "execution_count": 72,
   "id": "82a3c9ae",
   "metadata": {},
   "outputs": [
    {
     "data": {
      "text/plain": [
       "'0.6'"
      ]
     },
     "execution_count": 72,
     "metadata": {},
     "output_type": "execute_result"
    }
   ],
   "source": [
    "f2.read()"
   ]
  },
  {
   "cell_type": "code",
   "execution_count": 73,
   "id": "e8b66988",
   "metadata": {},
   "outputs": [
    {
     "data": {
      "text/plain": [
       "''"
      ]
     },
     "execution_count": 73,
     "metadata": {},
     "output_type": "execute_result"
    }
   ],
   "source": [
    "f2.read()"
   ]
  },
  {
   "cell_type": "code",
   "execution_count": 86,
   "id": "1abd316d",
   "metadata": {},
   "outputs": [
    {
     "name": "stdout",
     "output_type": "stream",
     "text": [
      "Enter Numerator: 7\n",
      "Enter Numerator: 1\n",
      "[Errno 2] No such file or directory: 'maths.txt'\n",
      "inside Finally block\n"
     ]
    }
   ],
   "source": [
    "# Try Block : We will place our suspicious code which needs to be monitored under Try block\n",
    "# Except will be used to catch the error from Try block\n",
    "# Else : It will be executed if no error occurs in Try Block\n",
    "# Finally : It will execute always\n",
    "\n",
    "a = int(input(\"Enter Numerator: \"))\n",
    "b = int(input(\"Enter Numerator: \"))\n",
    "\n",
    "try:   \n",
    "    c = a/b\n",
    "    f = open(\"maths.txt\",\"r+\") #we do not have maths.text file in directory so r+ operation will not work\n",
    "    f.write(str(c))\n",
    "    f.close()\n",
    "except IOError as e:\n",
    "    print(e)    \n",
    "else:\n",
    "    print(\"Try Block Passed\")\n",
    "finally:\n",
    "    print(\"inside Finally block\")   "
   ]
  },
  {
   "cell_type": "code",
   "execution_count": 87,
   "id": "f73f3292",
   "metadata": {},
   "outputs": [
    {
     "name": "stdout",
     "output_type": "stream",
     "text": [
      "Enter Numerator: 7\n",
      "Enter Numerator: 1\n",
      "Try Block Passed\n",
      "inside Finally block\n"
     ]
    }
   ],
   "source": [
    "# Try Block : We will place our suspicious code which needs to be monitored under Try block\n",
    "# Except will be used to catch the error from Try block\n",
    "# Else : It will be executed if no error occurs in Try Block\n",
    "# Finally : It will execute always\n",
    "\n",
    "a = int(input(\"Enter Numerator: \"))\n",
    "b = int(input(\"Enter Numerator: \"))\n",
    "\n",
    "try:   \n",
    "    c = a/b\n",
    "    f = open(\"maths1.txt\",\"w\") #we do not have maths.text file in directory but w operation will create file and write\n",
    "    f.write(str(c))\n",
    "    f.close()\n",
    "except IOError as e:\n",
    "    print(e)    \n",
    "else:\n",
    "    print(\"Try Block Passed\")\n",
    "finally:\n",
    "    print(\"inside Finally block\") "
   ]
  },
  {
   "cell_type": "code",
   "execution_count": 91,
   "id": "b0ac6d62",
   "metadata": {},
   "outputs": [
    {
     "name": "stdout",
     "output_type": "stream",
     "text": [
      "Enter Numerator: 7\n",
      "Enter Numerator: 0\n",
      "[Errno 2] No such file or directory: 'maths3.txt'\n",
      "inside Finally block\n"
     ]
    }
   ],
   "source": [
    "# Try Block : We will place our suspicious code which needs to be monitored under Try block\n",
    "# Except will be used to catch the error from Try block\n",
    "# Else : It will be executed if no error occurs in Try Block\n",
    "# Finally : It will execute always\n",
    "\n",
    "a = int(input(\"Enter Numerator: \"))\n",
    "b = int(input(\"Enter Numerator: \"))\n",
    "\n",
    "try:   \n",
    "    f = open(\"maths3.txt\",\"r+\") #we do not have maths.text file in directory but w operation will create file and write\n",
    "    c = a/b\n",
    "    f.write(str(c))\n",
    "    f.close()\n",
    "except IOError as e:\n",
    "    print(e)    \n",
    "except ArithmeticError as ae:\n",
    "    print(\"Error \",ae)\n",
    "else:\n",
    "    print(\"Try Block Passed\")\n",
    "finally:\n",
    "    print(\"inside Finally block\") "
   ]
  },
  {
   "cell_type": "code",
   "execution_count": 106,
   "id": "029ccdbf",
   "metadata": {},
   "outputs": [],
   "source": [
    "def askforinit():\n",
    "    while True:\n",
    "        try:\n",
    "            a = int(input(\"enter an integer:\"))\n",
    "        except Exception as e:\n",
    "            print(\"Error Message: \",e)\n",
    "            break\n",
    "        else:\n",
    "            print(\"Correct Value entered: \")\n",
    "            break\n",
    "        finally:\n",
    "            print(\"close this issue\")"
   ]
  },
  {
   "cell_type": "code",
   "execution_count": 111,
   "id": "2005c5a6",
   "metadata": {},
   "outputs": [
    {
     "name": "stdout",
     "output_type": "stream",
     "text": [
      "Enter Numerator: 7\n",
      "Enter Numerator: 0\n",
      "Error  division by zero\n",
      "inside Finally block\n"
     ]
    }
   ],
   "source": [
    "# Try Block : We will place our suspicious code which needs to be monitored under Try block\n",
    "# Except will be used to catch the error from Try block\n",
    "# Else : It will be executed if no error occurs in Try Block\n",
    "# Finally : It will execute always\n",
    "#If we give trap error using Exception, it will act as Master exception handler\n",
    "\n",
    "a = int(input(\"Enter Numerator: \"))\n",
    "b = int(input(\"Enter Numerator: \"))\n",
    "\n",
    "try:   \n",
    "    f = open(\"maths1.txt\",\"r+\") #we do not have maths.text file in directory but w operation will create file and write\n",
    "    c = a/b\n",
    "    f.write(str(c))\n",
    "    f.close()\n",
    "except IOError as e:\n",
    "    print(e)    \n",
    "except ArithmeticError as ae:\n",
    "    print(\"Error \",ae)\n",
    "except Exception as e1: #\n",
    "    print(\"Master Exception \",ae)\n",
    "else:\n",
    "    print(\"Try Block Passed\")\n",
    "finally:\n",
    "    print(\"inside Finally block\") "
   ]
  },
  {
   "cell_type": "code",
   "execution_count": 107,
   "id": "a346027f",
   "metadata": {},
   "outputs": [
    {
     "name": "stdout",
     "output_type": "stream",
     "text": [
      "enter an integer:sksks\n",
      "Error Message:  invalid literal for int() with base 10: 'sksks'\n",
      "close this issue\n"
     ]
    }
   ],
   "source": [
    "askforinit()"
   ]
  },
  {
   "cell_type": "code",
   "execution_count": 146,
   "id": "e78deb66",
   "metadata": {},
   "outputs": [],
   "source": [
    "# Creating your own Exception\n",
    "\n",
    "def create_your_exception(a):\n",
    "    if a == 6:\n",
    "        try:\n",
    "            raise Exception(\"Print a\" ,a)\n",
    "        except Exception as e:\n",
    "             return(\"holima\",e)\n",
    "        "
   ]
  },
  {
   "cell_type": "code",
   "execution_count": 147,
   "id": "a0270e84",
   "metadata": {},
   "outputs": [],
   "source": [
    "create_your_exception(5)"
   ]
  },
  {
   "cell_type": "code",
   "execution_count": 139,
   "id": "917ad9f9",
   "metadata": {},
   "outputs": [
    {
     "name": "stdout",
     "output_type": "stream",
     "text": [
      "holima ('Print a', 6)\n"
     ]
    }
   ],
   "source": [
    "a= create_your_exception(6)"
   ]
  },
  {
   "cell_type": "code",
   "execution_count": 148,
   "id": "827e0147",
   "metadata": {},
   "outputs": [
    {
     "name": "stdout",
     "output_type": "stream",
     "text": [
      "('holima', Exception('Print a', 6))\n"
     ]
    }
   ],
   "source": [
    "a= create_your_exception(6)\n",
    "print(a)"
   ]
  },
  {
   "cell_type": "code",
   "execution_count": 151,
   "id": "523b7aca",
   "metadata": {},
   "outputs": [],
   "source": [
    "# Creating your own Exception\n",
    "\n",
    "def create_your_exception1(a):\n",
    "    if a == 6:\n",
    "        raise Exception(a)\n",
    "        \n",
    "    return(a)"
   ]
  },
  {
   "cell_type": "code",
   "execution_count": 153,
   "id": "77309c1b",
   "metadata": {},
   "outputs": [
    {
     "name": "stdout",
     "output_type": "stream",
     "text": [
      "7\n"
     ]
    }
   ],
   "source": [
    "a= create_your_exception1(7)\n",
    "print(a)"
   ]
  },
  {
   "cell_type": "code",
   "execution_count": 154,
   "id": "e67ab027",
   "metadata": {},
   "outputs": [
    {
     "ename": "Exception",
     "evalue": "6",
     "output_type": "error",
     "traceback": [
      "\u001b[1;31m---------------------------------------------------------------------------\u001b[0m",
      "\u001b[1;31mException\u001b[0m                                 Traceback (most recent call last)",
      "\u001b[1;32m~\\AppData\\Local\\Temp/ipykernel_660/3010690398.py\u001b[0m in \u001b[0;36m<module>\u001b[1;34m\u001b[0m\n\u001b[1;32m----> 1\u001b[1;33m \u001b[0ma\u001b[0m\u001b[1;33m=\u001b[0m \u001b[0mcreate_your_exception1\u001b[0m\u001b[1;33m(\u001b[0m\u001b[1;36m6\u001b[0m\u001b[1;33m)\u001b[0m\u001b[1;33m\u001b[0m\u001b[1;33m\u001b[0m\u001b[0m\n\u001b[0m\u001b[0;32m      2\u001b[0m \u001b[0mprint\u001b[0m\u001b[1;33m(\u001b[0m\u001b[0ma\u001b[0m\u001b[1;33m)\u001b[0m\u001b[1;33m\u001b[0m\u001b[1;33m\u001b[0m\u001b[0m\n",
      "\u001b[1;32m~\\AppData\\Local\\Temp/ipykernel_660/3131300522.py\u001b[0m in \u001b[0;36mcreate_your_exception1\u001b[1;34m(a)\u001b[0m\n\u001b[0;32m      3\u001b[0m \u001b[1;32mdef\u001b[0m \u001b[0mcreate_your_exception1\u001b[0m\u001b[1;33m(\u001b[0m\u001b[0ma\u001b[0m\u001b[1;33m)\u001b[0m\u001b[1;33m:\u001b[0m\u001b[1;33m\u001b[0m\u001b[1;33m\u001b[0m\u001b[0m\n\u001b[0;32m      4\u001b[0m     \u001b[1;32mif\u001b[0m \u001b[0ma\u001b[0m \u001b[1;33m==\u001b[0m \u001b[1;36m6\u001b[0m\u001b[1;33m:\u001b[0m\u001b[1;33m\u001b[0m\u001b[1;33m\u001b[0m\u001b[0m\n\u001b[1;32m----> 5\u001b[1;33m         \u001b[1;32mraise\u001b[0m \u001b[0mException\u001b[0m\u001b[1;33m(\u001b[0m\u001b[0ma\u001b[0m\u001b[1;33m)\u001b[0m\u001b[1;33m\u001b[0m\u001b[1;33m\u001b[0m\u001b[0m\n\u001b[0m\u001b[0;32m      6\u001b[0m \u001b[1;33m\u001b[0m\u001b[0m\n\u001b[0;32m      7\u001b[0m     \u001b[1;32mreturn\u001b[0m\u001b[1;33m(\u001b[0m\u001b[0ma\u001b[0m\u001b[1;33m)\u001b[0m\u001b[1;33m\u001b[0m\u001b[1;33m\u001b[0m\u001b[0m\n",
      "\u001b[1;31mException\u001b[0m: 6"
     ]
    }
   ],
   "source": [
    "a= create_your_exception1(6)\n",
    "\n",
    "print(a)"
   ]
  },
  {
   "cell_type": "code",
   "execution_count": 1,
   "id": "fcfa0ac2",
   "metadata": {},
   "outputs": [
    {
     "name": "stdout",
     "output_type": "stream",
     "text": [
      "Please enter the data: 19\n",
      "[0, 2, 4, 6, 8, 10, 12, 14, 16, 18]\n"
     ]
    }
   ],
   "source": [
    "import mod1\n",
    "import logging as log\n",
    "log.basicConfig(filename = 'exceptionlog1.log',level=log.INFO, format = \"%(asctime)s %(levelname)s %(message)s\")\n",
    "f= open(\"exceptionlog1.log\",\"w\")\n",
    "try:\n",
    "    a = int(input(\"Please enter the data: \"))\n",
    "    if type(a) == int:\n",
    "        try:\n",
    "            print(mod1.print_even(a))\n",
    "            log.info(f\"{mod1.print_even(a)}\")\n",
    "        except Exception as e:\n",
    "            print(e)\n",
    "            log.info(f\"{e}\")\n",
    "except ValueError as j:\n",
    "    print(\"Entered value is not numeric\",j)\n",
    "    log.error(f\"{j}\")"
   ]
  },
  {
   "cell_type": "code",
   "execution_count": 4,
   "id": "19842c7b",
   "metadata": {},
   "outputs": [
    {
     "data": {
      "text/plain": [
       "'D:\\\\study\\\\Data Science\\\\100 Days of Python\\\\Python Code Example'"
      ]
     },
     "execution_count": 4,
     "metadata": {},
     "output_type": "execute_result"
    }
   ],
   "source": [
    "import os\n",
    "os.getcwd()"
   ]
  },
  {
   "cell_type": "code",
   "execution_count": null,
   "id": "3001204e",
   "metadata": {},
   "outputs": [],
   "source": []
  }
 ],
 "metadata": {
  "kernelspec": {
   "display_name": "Python 3 (ipykernel)",
   "language": "python",
   "name": "python3"
  },
  "language_info": {
   "codemirror_mode": {
    "name": "ipython",
    "version": 3
   },
   "file_extension": ".py",
   "mimetype": "text/x-python",
   "name": "python",
   "nbconvert_exporter": "python",
   "pygments_lexer": "ipython3",
   "version": "3.9.7"
  }
 },
 "nbformat": 4,
 "nbformat_minor": 5
}
